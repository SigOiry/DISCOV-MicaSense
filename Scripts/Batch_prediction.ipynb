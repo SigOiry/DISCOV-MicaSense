{
 "cells": [
  {
   "cell_type": "code",
   "execution_count": 8,
   "metadata": {},
   "outputs": [],
   "source": [
    "import sys \n",
    "import os\n",
    "sys.path.append(os.path.abspath(\"Script/functions\"))\n",
    "\n",
    "from Batch_prediction import batch_prediction"
   ]
  },
  {
   "cell_type": "code",
   "execution_count": null,
   "metadata": {},
   "outputs": [],
   "source": [
    "images = [\"Arz_low_multi\",\n",
    "          \"Aven_1104_MS\",\n",
    "          \"Belon_1004_MS\",\n",
    "          \"Belon_1104_MS\",\n",
    "          \"Collet1_50m_Micasense\",\n",
    "          \"Collet2_50m_Micasense\",\n",
    "          \"Duer_high_multi\",\n",
    "          \"Duer_low_multi\",\n",
    "          \"Gafanha_high_multi\",\n",
    "          \"Gafanha_Low\",\n",
    "          \"Lorois_50m_MicasenseV3\",\n",
    "          \"NorthDike_high_multi\"] \n",
    "\n",
    "models = [\"DISCOV_BiCOME_reframed\", \"DiSCOV_InvaSea_V3\"]\n",
    "\n",
    "\n",
    "batch_prediction(images, models)"
   ]
  }
 ],
 "metadata": {
  "kernelspec": {
   "display_name": "Python 3",
   "language": "python",
   "name": "python3"
  },
  "language_info": {
   "codemirror_mode": {
    "name": "ipython",
    "version": 3
   },
   "file_extension": ".py",
   "mimetype": "text/x-python",
   "name": "python",
   "nbconvert_exporter": "python",
   "pygments_lexer": "ipython3",
   "version": "3.10.14"
  }
 },
 "nbformat": 4,
 "nbformat_minor": 2
}

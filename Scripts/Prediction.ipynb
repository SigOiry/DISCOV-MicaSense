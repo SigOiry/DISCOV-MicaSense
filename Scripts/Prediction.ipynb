{
 "cells": [
  {
   "cell_type": "markdown",
   "metadata": {},
   "source": [
    "# Prediction on bigger flight (Raster) with New Full Model"
   ]
  },
  {
   "cell_type": "code",
   "execution_count": null,
   "metadata": {},
   "outputs": [],
   "source": [
    "#hide\n",
    "\n",
    "from osgeo import gdal\n",
    "\n",
    "from fastbook import *\n",
    "from pandas.api.types import is_string_dtype, is_numeric_dtype, is_categorical_dtype\n",
    "from fastai.tabular.all import *\n",
    "pd.options.display.max_rows = 20\n",
    "pd.options.display.max_columns = 8\n",
    "import numpy as np\n",
    "from matplotlib import colors\n",
    "import rasterio as rio\n",
    "import rasterio.mask\n",
    "import fiona\n",
    "import matplotlib.pyplot as plt\n",
    "import warnings\n",
    "import pandas as pd\n",
    "warnings.filterwarnings(\"ignore\")\n",
    "\n",
    "def scaleMinMax(x):\n",
    "    return((x-np.nanmin(x))/(np.nanmax(x)-np.nanmin(x)))\n",
    "\n",
    "def scaleCCC(x):\n",
    "    return((x- np.nanpercentile(x,0))/(np.nanpercentile(x,98)-np.nanpercentile(x,0)))\n",
    "\n"
   ]
  },
  {
   "cell_type": "markdown",
   "metadata": {},
   "source": [
    "# Set input and Output filename "
   ]
  },
  {
   "cell_type": "code",
   "execution_count": null,
   "metadata": {},
   "outputs": [
    {
     "data": {
      "text/plain": [
       "['Bacillariophyceae', 'Chlorophyta', 'Magnoliopsida', 'Phaeophyta', 'Rhodophyta', 'Sediment', 'SunGlint', 'Water']"
      ]
     },
     "metadata": {},
     "output_type": "display_data"
    }
   ],
   "source": [
    "filename = \"Belon_1004_MS\"\n",
    "output_name = \"Belon_1004_MS_invasea_V3_reframed\"\n",
    "\n",
    "learn = load_learner('../models/DISCOV_Invasea_V3.pkl')\n",
    "categories = learn.dls.vocab\n",
    "categories"
   ]
  },
  {
   "cell_type": "code",
   "execution_count": null,
   "metadata": {},
   "outputs": [],
   "source": [
    "with fiona.open('../Data/shp/mask/' + filename + '.shp', \"r\") as shapefile:\n",
    "    shapes = [feature[\"geometry\"] for feature in shapefile]\n",
    "    \n",
    "with rio.open('../Data/img/' + filename + '.tif') as ds:\n",
    "    arr, out_transform = rasterio.mask.mask(ds, shapes, crop=True)\n",
    "    out_meta = ds.meta\n",
    "\n",
    "gt = [out_transform[2],out_transform[0],out_transform[1],\n",
    " out_transform[5],out_transform[3],out_transform[4]]\n",
    "\n",
    "\n",
    "lowtif = gdal.Open('../Data/img/' + filename + '.tif')\n",
    "proj = lowtif.GetProjection()\n",
    "del lowtif \n"
   ]
  },
  {
   "cell_type": "code",
   "execution_count": null,
   "metadata": {},
   "outputs": [],
   "source": [
    "\n",
    "Arr_Max=np.max(arr,axis=0)\n",
    "Arr_Min=np.min(arr,axis=0)\n",
    "\n",
    "arr_std=(arr - Arr_Min)/(Arr_Max - Arr_Min)\n"
   ]
  },
  {
   "cell_type": "code",
   "execution_count": null,
   "metadata": {},
   "outputs": [],
   "source": [
    "df_NAN = pd.DataFrame()\n",
    "df_NAN['Reflectance_444'] = arr[0].ravel()\n",
    "df_NAN['Reflectance_475'] = arr[1].ravel() \n",
    "df_NAN['Reflectance_531'] = arr[2].ravel() \n",
    "df_NAN['Reflectance_560'] = arr[3].ravel() \n",
    "df_NAN['Reflectance_650'] = arr[4].ravel() \n",
    "df_NAN['Reflectance_668'] = arr[5].ravel() \n",
    "df_NAN['Reflectance_705'] = arr[6].ravel() \n",
    "df_NAN['Reflectance_717'] = arr[7].ravel() \n",
    "df_NAN['Reflectance_740'] = arr[8].ravel() \n",
    "df_NAN['Reflectance_842'] = arr[9].ravel()"
   ]
  },
  {
   "cell_type": "code",
   "execution_count": null,
   "metadata": {},
   "outputs": [],
   "source": [
    "df_NAN.replace([0,65535], np.nan, inplace=True)\n",
    "\n",
    "df_NAN['Reflectance_Stan_444'] = arr_std[0].ravel()\n",
    "df_NAN['Reflectance_Stan_475'] = arr_std[1].ravel() \n",
    "df_NAN['Reflectance_Stan_531'] = arr_std[2].ravel() \n",
    "df_NAN['Reflectance_Stan_560'] = arr_std[3].ravel() \n",
    "df_NAN['Reflectance_Stan_650'] = arr_std[4].ravel() \n",
    "df_NAN['Reflectance_Stan_668'] = arr_std[5].ravel() \n",
    "df_NAN['Reflectance_Stan_705'] = arr_std[6].ravel() \n",
    "df_NAN['Reflectance_Stan_717'] = arr_std[7].ravel() \n",
    "df_NAN['Reflectance_Stan_740'] = arr_std[8].ravel() \n",
    "df_NAN['Reflectance_Stan_842'] = arr_std[9].ravel()"
   ]
  },
  {
   "cell_type": "code",
   "execution_count": null,
   "metadata": {},
   "outputs": [],
   "source": [
    "df_NAN['NDVI'] = (df_NAN['Reflectance_842']-df_NAN['Reflectance_650'])/(df_NAN['Reflectance_842']+df_NAN['Reflectance_650'])\n",
    "df_NAN['NDVI_Stan'] = (df_NAN['Reflectance_Stan_842']-df_NAN['Reflectance_Stan_650'])/(df_NAN['Reflectance_Stan_842']+df_NAN['Reflectance_Stan_650'])"
   ]
  },
  {
   "cell_type": "code",
   "execution_count": null,
   "metadata": {},
   "outputs": [],
   "source": [
    "df = df_NAN.dropna()"
   ]
  },
  {
   "cell_type": "code",
   "execution_count": null,
   "metadata": {},
   "outputs": [],
   "source": [
    "df_test_nan_nrum = df_NAN\n",
    "df_test_nan_nrum['ID'] = np.arange(len(df_test_nan_nrum))\n",
    "df_test_nrum = df_test_nan_nrum.dropna()"
   ]
  },
  {
   "cell_type": "code",
   "execution_count": null,
   "metadata": {},
   "outputs": [
    {
     "data": {
      "text/plain": [
       "(24779379, 22)"
      ]
     },
     "metadata": {},
     "output_type": "display_data"
    }
   ],
   "source": [
    "df.shape"
   ]
  },
  {
   "cell_type": "code",
   "execution_count": null,
   "metadata": {},
   "outputs": [],
   "source": [
    "ID_l=list(df_test_nrum['ID'])"
   ]
  },
  {
   "cell_type": "code",
   "execution_count": null,
   "metadata": {},
   "outputs": [
    {
     "data": {
      "text/html": [
       "\n",
       "<style>\n",
       "    /* Turns off some styling */\n",
       "    progress {\n",
       "        /* gets rid of default border in Firefox and Opera. */\n",
       "        border: none;\n",
       "        /* Needs to be in here for Safari polyfill so background images work as expected. */\n",
       "        background-size: auto;\n",
       "    }\n",
       "    progress:not([value]), progress:not([value])::-webkit-progress-bar {\n",
       "        background: repeating-linear-gradient(45deg, #7e7e7e, #7e7e7e 10px, #5c5c5c 10px, #5c5c5c 20px);\n",
       "    }\n",
       "    .progress-bar-interrupted, .progress-bar-interrupted::-webkit-progress-bar {\n",
       "        background: #F44336;\n",
       "    }\n",
       "</style>\n"
      ],
      "text/plain": [
       "<IPython.core.display.HTML object>"
      ]
     },
     "metadata": {},
     "output_type": "display_data"
    },
    {
     "data": {
      "text/html": [],
      "text/plain": [
       "<IPython.core.display.HTML object>"
      ]
     },
     "metadata": {},
     "output_type": "display_data"
    }
   ],
   "source": [
    "dl = learn.dls.test_dl(df, bs=4000)\n",
    "preds,_ = learn.get_preds(dl=dl)"
   ]
  },
  {
   "cell_type": "code",
   "execution_count": null,
   "metadata": {},
   "outputs": [],
   "source": [
    "class_idxs = preds.argmax(axis=1)\n",
    "# res = [learn.dls.vocab[c] for c in class_idxs]"
   ]
  },
  {
   "cell_type": "code",
   "execution_count": null,
   "metadata": {},
   "outputs": [],
   "source": [
    "class_probs= preds.max(axis=1)"
   ]
  },
  {
   "cell_type": "code",
   "execution_count": null,
   "metadata": {},
   "outputs": [],
   "source": [
    "class_probs=class_probs.values"
   ]
  },
  {
   "cell_type": "markdown",
   "metadata": {},
   "source": [
    "# Prediction Plot "
   ]
  },
  {
   "cell_type": "code",
   "execution_count": null,
   "metadata": {},
   "outputs": [
    {
     "data": {
      "text/plain": [
       "list"
      ]
     },
     "metadata": {},
     "output_type": "display_data"
    }
   ],
   "source": [
    "type(class_idxs.tolist())"
   ]
  },
  {
   "cell_type": "code",
   "execution_count": null,
   "metadata": {},
   "outputs": [],
   "source": [
    "NumPred= class_idxs.tolist()\n",
    "PredProbs =class_probs.tolist()"
   ]
  },
  {
   "cell_type": "code",
   "execution_count": null,
   "metadata": {},
   "outputs": [],
   "source": [
    "res_df= pd.DataFrame(list(zip(NumPred, ID_l,PredProbs)),columns =['Pred_ID','ID','Prob'])"
   ]
  },
  {
   "cell_type": "code",
   "execution_count": null,
   "metadata": {},
   "outputs": [
    {
     "data": {
      "text/html": [
       "<div>\n",
       "<style scoped>\n",
       "    .dataframe tbody tr th:only-of-type {\n",
       "        vertical-align: middle;\n",
       "    }\n",
       "\n",
       "    .dataframe tbody tr th {\n",
       "        vertical-align: top;\n",
       "    }\n",
       "\n",
       "    .dataframe thead th {\n",
       "        text-align: right;\n",
       "    }\n",
       "</style>\n",
       "<table border=\"1\" class=\"dataframe\">\n",
       "  <thead>\n",
       "    <tr style=\"text-align: right;\">\n",
       "      <th></th>\n",
       "      <th>Pred_ID</th>\n",
       "      <th>ID</th>\n",
       "      <th>Prob</th>\n",
       "    </tr>\n",
       "  </thead>\n",
       "  <tbody>\n",
       "    <tr>\n",
       "      <th>0</th>\n",
       "      <td>2</td>\n",
       "      <td>70271</td>\n",
       "      <td>0.479743</td>\n",
       "    </tr>\n",
       "    <tr>\n",
       "      <th>1</th>\n",
       "      <td>4</td>\n",
       "      <td>76621</td>\n",
       "      <td>0.596987</td>\n",
       "    </tr>\n",
       "    <tr>\n",
       "      <th>2</th>\n",
       "      <td>4</td>\n",
       "      <td>76622</td>\n",
       "      <td>0.353299</td>\n",
       "    </tr>\n",
       "    <tr>\n",
       "      <th>3</th>\n",
       "      <td>4</td>\n",
       "      <td>82971</td>\n",
       "      <td>0.771637</td>\n",
       "    </tr>\n",
       "    <tr>\n",
       "      <th>4</th>\n",
       "      <td>2</td>\n",
       "      <td>82972</td>\n",
       "      <td>0.623290</td>\n",
       "    </tr>\n",
       "    <tr>\n",
       "      <th>...</th>\n",
       "      <td>...</td>\n",
       "      <td>...</td>\n",
       "      <td>...</td>\n",
       "    </tr>\n",
       "    <tr>\n",
       "      <th>24779374</th>\n",
       "      <td>3</td>\n",
       "      <td>53223154</td>\n",
       "      <td>0.468945</td>\n",
       "    </tr>\n",
       "    <tr>\n",
       "      <th>24779375</th>\n",
       "      <td>2</td>\n",
       "      <td>53223155</td>\n",
       "      <td>0.919087</td>\n",
       "    </tr>\n",
       "    <tr>\n",
       "      <th>24779376</th>\n",
       "      <td>4</td>\n",
       "      <td>53223156</td>\n",
       "      <td>0.312370</td>\n",
       "    </tr>\n",
       "    <tr>\n",
       "      <th>24779377</th>\n",
       "      <td>4</td>\n",
       "      <td>53223157</td>\n",
       "      <td>0.548968</td>\n",
       "    </tr>\n",
       "    <tr>\n",
       "      <th>24779378</th>\n",
       "      <td>2</td>\n",
       "      <td>53229504</td>\n",
       "      <td>0.924912</td>\n",
       "    </tr>\n",
       "  </tbody>\n",
       "</table>\n",
       "<p>24779379 rows × 3 columns</p>\n",
       "</div>"
      ],
      "text/plain": [
       "          Pred_ID        ID      Prob\n",
       "0               2     70271  0.479743\n",
       "1               4     76621  0.596987\n",
       "2               4     76622  0.353299\n",
       "3               4     82971  0.771637\n",
       "4               2     82972  0.623290\n",
       "...           ...       ...       ...\n",
       "24779374        3  53223154  0.468945\n",
       "24779375        2  53223155  0.919087\n",
       "24779376        4  53223156  0.312370\n",
       "24779377        4  53223157  0.548968\n",
       "24779378        2  53229504  0.924912\n",
       "\n",
       "[24779379 rows x 3 columns]"
      ]
     },
     "metadata": {},
     "output_type": "display_data"
    }
   ],
   "source": [
    "res_df"
   ]
  },
  {
   "cell_type": "code",
   "execution_count": null,
   "metadata": {},
   "outputs": [],
   "source": [
    "df_NAN['ID']= np.arange(len(df_NAN))"
   ]
  },
  {
   "cell_type": "code",
   "execution_count": null,
   "metadata": {},
   "outputs": [],
   "source": [
    "res_input_df = pd.merge(df_NAN,res_df, how='left', on = 'ID')"
   ]
  },
  {
   "cell_type": "code",
   "execution_count": null,
   "metadata": {},
   "outputs": [
    {
     "data": {
      "text/html": [
       "<div>\n",
       "<style scoped>\n",
       "    .dataframe tbody tr th:only-of-type {\n",
       "        vertical-align: middle;\n",
       "    }\n",
       "\n",
       "    .dataframe tbody tr th {\n",
       "        vertical-align: top;\n",
       "    }\n",
       "\n",
       "    .dataframe thead th {\n",
       "        text-align: right;\n",
       "    }\n",
       "</style>\n",
       "<table border=\"1\" class=\"dataframe\">\n",
       "  <thead>\n",
       "    <tr style=\"text-align: right;\">\n",
       "      <th></th>\n",
       "      <th>Reflectance_444</th>\n",
       "      <th>Reflectance_475</th>\n",
       "      <th>Reflectance_531</th>\n",
       "      <th>Reflectance_560</th>\n",
       "      <th>...</th>\n",
       "      <th>NDVI_Stan</th>\n",
       "      <th>ID</th>\n",
       "      <th>Pred_ID</th>\n",
       "      <th>Prob</th>\n",
       "    </tr>\n",
       "  </thead>\n",
       "  <tbody>\n",
       "    <tr>\n",
       "      <th>0</th>\n",
       "      <td>NaN</td>\n",
       "      <td>NaN</td>\n",
       "      <td>NaN</td>\n",
       "      <td>NaN</td>\n",
       "      <td>...</td>\n",
       "      <td>NaN</td>\n",
       "      <td>0</td>\n",
       "      <td>NaN</td>\n",
       "      <td>NaN</td>\n",
       "    </tr>\n",
       "    <tr>\n",
       "      <th>1</th>\n",
       "      <td>NaN</td>\n",
       "      <td>NaN</td>\n",
       "      <td>NaN</td>\n",
       "      <td>NaN</td>\n",
       "      <td>...</td>\n",
       "      <td>NaN</td>\n",
       "      <td>1</td>\n",
       "      <td>NaN</td>\n",
       "      <td>NaN</td>\n",
       "    </tr>\n",
       "    <tr>\n",
       "      <th>2</th>\n",
       "      <td>NaN</td>\n",
       "      <td>NaN</td>\n",
       "      <td>NaN</td>\n",
       "      <td>NaN</td>\n",
       "      <td>...</td>\n",
       "      <td>NaN</td>\n",
       "      <td>2</td>\n",
       "      <td>NaN</td>\n",
       "      <td>NaN</td>\n",
       "    </tr>\n",
       "    <tr>\n",
       "      <th>3</th>\n",
       "      <td>NaN</td>\n",
       "      <td>NaN</td>\n",
       "      <td>NaN</td>\n",
       "      <td>NaN</td>\n",
       "      <td>...</td>\n",
       "      <td>NaN</td>\n",
       "      <td>3</td>\n",
       "      <td>NaN</td>\n",
       "      <td>NaN</td>\n",
       "    </tr>\n",
       "    <tr>\n",
       "      <th>4</th>\n",
       "      <td>NaN</td>\n",
       "      <td>NaN</td>\n",
       "      <td>NaN</td>\n",
       "      <td>NaN</td>\n",
       "      <td>...</td>\n",
       "      <td>NaN</td>\n",
       "      <td>4</td>\n",
       "      <td>NaN</td>\n",
       "      <td>NaN</td>\n",
       "    </tr>\n",
       "    <tr>\n",
       "      <th>...</th>\n",
       "      <td>...</td>\n",
       "      <td>...</td>\n",
       "      <td>...</td>\n",
       "      <td>...</td>\n",
       "      <td>...</td>\n",
       "      <td>...</td>\n",
       "      <td>...</td>\n",
       "      <td>...</td>\n",
       "      <td>...</td>\n",
       "    </tr>\n",
       "    <tr>\n",
       "      <th>53232045</th>\n",
       "      <td>NaN</td>\n",
       "      <td>NaN</td>\n",
       "      <td>NaN</td>\n",
       "      <td>NaN</td>\n",
       "      <td>...</td>\n",
       "      <td>NaN</td>\n",
       "      <td>53232045</td>\n",
       "      <td>NaN</td>\n",
       "      <td>NaN</td>\n",
       "    </tr>\n",
       "    <tr>\n",
       "      <th>53232046</th>\n",
       "      <td>NaN</td>\n",
       "      <td>NaN</td>\n",
       "      <td>NaN</td>\n",
       "      <td>NaN</td>\n",
       "      <td>...</td>\n",
       "      <td>NaN</td>\n",
       "      <td>53232046</td>\n",
       "      <td>NaN</td>\n",
       "      <td>NaN</td>\n",
       "    </tr>\n",
       "    <tr>\n",
       "      <th>53232047</th>\n",
       "      <td>NaN</td>\n",
       "      <td>NaN</td>\n",
       "      <td>NaN</td>\n",
       "      <td>NaN</td>\n",
       "      <td>...</td>\n",
       "      <td>NaN</td>\n",
       "      <td>53232047</td>\n",
       "      <td>NaN</td>\n",
       "      <td>NaN</td>\n",
       "    </tr>\n",
       "    <tr>\n",
       "      <th>53232048</th>\n",
       "      <td>NaN</td>\n",
       "      <td>NaN</td>\n",
       "      <td>NaN</td>\n",
       "      <td>NaN</td>\n",
       "      <td>...</td>\n",
       "      <td>NaN</td>\n",
       "      <td>53232048</td>\n",
       "      <td>NaN</td>\n",
       "      <td>NaN</td>\n",
       "    </tr>\n",
       "    <tr>\n",
       "      <th>53232049</th>\n",
       "      <td>NaN</td>\n",
       "      <td>NaN</td>\n",
       "      <td>NaN</td>\n",
       "      <td>NaN</td>\n",
       "      <td>...</td>\n",
       "      <td>NaN</td>\n",
       "      <td>53232049</td>\n",
       "      <td>NaN</td>\n",
       "      <td>NaN</td>\n",
       "    </tr>\n",
       "  </tbody>\n",
       "</table>\n",
       "<p>53232050 rows × 25 columns</p>\n",
       "</div>"
      ],
      "text/plain": [
       "          Reflectance_444  Reflectance_475  Reflectance_531  Reflectance_560  \\\n",
       "0                     NaN              NaN              NaN              NaN   \n",
       "1                     NaN              NaN              NaN              NaN   \n",
       "2                     NaN              NaN              NaN              NaN   \n",
       "3                     NaN              NaN              NaN              NaN   \n",
       "4                     NaN              NaN              NaN              NaN   \n",
       "...                   ...              ...              ...              ...   \n",
       "53232045              NaN              NaN              NaN              NaN   \n",
       "53232046              NaN              NaN              NaN              NaN   \n",
       "53232047              NaN              NaN              NaN              NaN   \n",
       "53232048              NaN              NaN              NaN              NaN   \n",
       "53232049              NaN              NaN              NaN              NaN   \n",
       "\n",
       "          ...  NDVI_Stan        ID  Pred_ID  Prob  \n",
       "0         ...        NaN         0      NaN   NaN  \n",
       "1         ...        NaN         1      NaN   NaN  \n",
       "2         ...        NaN         2      NaN   NaN  \n",
       "3         ...        NaN         3      NaN   NaN  \n",
       "4         ...        NaN         4      NaN   NaN  \n",
       "...       ...        ...       ...      ...   ...  \n",
       "53232045  ...        NaN  53232045      NaN   NaN  \n",
       "53232046  ...        NaN  53232046      NaN   NaN  \n",
       "53232047  ...        NaN  53232047      NaN   NaN  \n",
       "53232048  ...        NaN  53232048      NaN   NaN  \n",
       "53232049  ...        NaN  53232049      NaN   NaN  \n",
       "\n",
       "[53232050 rows x 25 columns]"
      ]
     },
     "metadata": {},
     "output_type": "display_data"
    }
   ],
   "source": [
    "res_input_df"
   ]
  },
  {
   "cell_type": "code",
   "execution_count": null,
   "metadata": {},
   "outputs": [],
   "source": [
    "Pred_arr = np.asarray(res_input_df['Pred_ID'])"
   ]
  },
  {
   "cell_type": "code",
   "execution_count": null,
   "metadata": {},
   "outputs": [],
   "source": [
    "Pred_arr=Pred_arr+1"
   ]
  },
  {
   "cell_type": "code",
   "execution_count": null,
   "metadata": {},
   "outputs": [
    {
     "data": {
      "text/plain": [
       "(10, 8383, 6350)"
      ]
     },
     "metadata": {},
     "output_type": "display_data"
    }
   ],
   "source": [
    "arr.shape"
   ]
  },
  {
   "cell_type": "code",
   "execution_count": null,
   "metadata": {},
   "outputs": [],
   "source": [
    "Prob_arr = np.asarray(res_input_df['Prob'])\n",
    "Prob_ras = Prob_arr.reshape(arr.shape[1], arr.shape[2])"
   ]
  },
  {
   "cell_type": "code",
   "execution_count": null,
   "metadata": {},
   "outputs": [],
   "source": [
    "Pred_ras = Pred_arr.reshape(arr.shape[1], arr.shape[2])"
   ]
  },
  {
   "cell_type": "markdown",
   "metadata": {},
   "source": [
    "# Prediction Save"
   ]
  },
  {
   "cell_type": "code",
   "execution_count": null,
   "metadata": {},
   "outputs": [],
   "source": [
    "# export\n",
    "driver = gdal.GetDriverByName(\"GTiff\")\n",
    "driver.Register()\n",
    "outds = driver.Create(\"../Output/Pred/\" + output_name +\"_prob.tif\", xsize = Prob_ras.shape[1],\n",
    "                      ysize = Prob_ras.shape[0], bands = 1, \n",
    "                      eType = gdal.GDT_Float32)\n",
    "\n",
    "outds.SetGeoTransform(gt)\n",
    "outds.SetProjection(proj)\n",
    "outband = outds.GetRasterBand(1)\n",
    "outband.WriteArray(Prob_ras)\n",
    "outband.SetNoDataValue(65535)\n",
    "outband.FlushCache()\n",
    "\n",
    "# close your datasets and bands!!!\n",
    "outband = None\n",
    "outds = None\n",
    "\n",
    "driver = gdal.GetDriverByName(\"GTiff\")\n",
    "driver.Register()\n",
    "outds = driver.Create(\"../Output/Pred/\" + output_name +\"_pred.tif\", xsize = Pred_ras.shape[1],\n",
    "                      ysize = Pred_ras.shape[0], bands = 1, \n",
    "                      eType = gdal.GDT_Int16)\n",
    "outds.SetGeoTransform(gt)\n",
    "outds.SetProjection(proj)\n",
    "outband = outds.GetRasterBand(1)\n",
    "outband.WriteArray(Pred_ras)\n",
    "outband.SetNoDataValue(65535)\n",
    "outband.SetNoDataValue(32767)\n",
    "outband.FlushCache()\n",
    "# close your datasets and bands!!!\n",
    "outband = None\n",
    "outds = None"
   ]
  }
 ],
 "metadata": {
  "kernelspec": {
   "display_name": "Python 3",
   "language": "python",
   "name": "python3"
  },
  "language_info": {
   "codemirror_mode": {
    "name": "ipython",
    "version": 3
   },
   "file_extension": ".py",
   "mimetype": "text/x-python",
   "name": "python",
   "nbconvert_exporter": "python",
   "pygments_lexer": "ipython3",
   "version": "3.10.14"
  }
 },
 "nbformat": 4,
 "nbformat_minor": 2
}

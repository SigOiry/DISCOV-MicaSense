{
 "cells": [
  {
   "cell_type": "markdown",
   "metadata": {},
   "source": [
    "# Prediction on bigger flight (Raster) with New Full Model"
   ]
  },
  {
   "cell_type": "code",
   "execution_count": 1,
   "metadata": {},
   "outputs": [
    {
     "name": "stderr",
     "output_type": "stream",
     "text": [
      "c:\\Users\\oirys\\miniforge3\\envs\\DISCOV_prediction\\lib\\site-packages\\fastbook\\__init__.py:11: UserWarning: Missing `ipywidgets` - please install it\n",
      "  except ModuleNotFoundError: warn(\"Missing `ipywidgets` - please install it\")\n",
      "c:\\Users\\oirys\\miniforge3\\envs\\DISCOV_prediction\\lib\\site-packages\\fastbook\\__init__.py:13: UserWarning: Missing `sentencepiece` - please run `pip install 'sentencepiece<0.1.90'`\n",
      "  except ModuleNotFoundError: warn(\"Missing `sentencepiece` - please run `pip install 'sentencepiece<0.1.90'`\")\n"
     ]
    }
   ],
   "source": [
    "from fastbook import *\n",
    "import fiona\n",
    "import rasterio as rio  \n",
    "import rasterio.mask\n",
    "from osgeo import gdal\n"
   ]
  },
  {
   "cell_type": "markdown",
   "metadata": {},
   "source": [
    "# Set input and Output filename "
   ]
  },
  {
   "cell_type": "code",
   "execution_count": 2,
   "metadata": {},
   "outputs": [
    {
     "data": {
      "text/plain": [
       "['Bacillariophyceae', 'Chlorophyta', 'Magnoliopsida', 'Phaeophyta', 'Rhodophyta', 'Sediment', 'SunGlint', 'Water']"
      ]
     },
     "execution_count": 2,
     "metadata": {},
     "output_type": "execute_result"
    }
   ],
   "source": [
    "filename = \"Gafanha_Low_LowRes\"\n",
    "output_name = \"Gaf_Low_BiCOME\"\n",
    "\n",
    "learn = load_learner('../models/DISCOV_BiCOME.pkl')\n",
    "categories = learn.dls.vocab\n",
    "categories"
   ]
  },
  {
   "cell_type": "code",
   "execution_count": 3,
   "metadata": {},
   "outputs": [
    {
     "data": {
      "text/plain": [
       "[-8.743678352905512,\n",
       " 3.9002362204679466e-07,\n",
       " 0.0,\n",
       " 40.59793313496078,\n",
       " 0.0,\n",
       " -2.9730920060172317e-07]"
      ]
     },
     "execution_count": 3,
     "metadata": {},
     "output_type": "execute_result"
    }
   ],
   "source": [
    "with fiona.open('../Data/shp/mask/' + filename + '.shp', \"r\") as shapefile:\n",
    "    shapes = [feature[\"geometry\"] for feature in shapefile]\n",
    "    \n",
    "with rio.open('../Data/img/' + filename + '.tif') as ds:\n",
    "    arr, out_transform = rasterio.mask.mask(ds, shapes, crop=True)\n",
    "    out_meta = ds.meta\n",
    "\n",
    "gt = [out_transform[2],out_transform[0],out_transform[1],\n",
    " out_transform[5],out_transform[3],out_transform[4]]\n",
    "\n",
    "\n",
    "lowtif = gdal.Open('../Data/img/' + filename + '.tif')\n",
    "proj = lowtif.GetProjection()\n",
    "del lowtif \n",
    "gt"
   ]
  },
  {
   "cell_type": "code",
   "execution_count": 4,
   "metadata": {},
   "outputs": [
    {
     "name": "stderr",
     "output_type": "stream",
     "text": [
      "C:\\Users\\oirys\\AppData\\Local\\Temp\\ipykernel_53740\\3415335001.py:4: RuntimeWarning: invalid value encountered in divide\n",
      "  arr_std=(arr - Arr_Min)/(Arr_Max - Arr_Min)\n"
     ]
    }
   ],
   "source": [
    "\n",
    "Arr_Max=np.max(arr,axis=0)\n",
    "Arr_Min=np.min(arr,axis=0)\n",
    "\n",
    "arr_std=(arr - Arr_Min)/(Arr_Max - Arr_Min)\n"
   ]
  },
  {
   "cell_type": "code",
   "execution_count": 5,
   "metadata": {},
   "outputs": [],
   "source": [
    "df_NAN = pd.DataFrame()\n",
    "df_NAN['Reflectance_444'] = arr[0].ravel()\n",
    "df_NAN['Reflectance_475'] = arr[1].ravel() \n",
    "df_NAN['Reflectance_531'] = arr[2].ravel() \n",
    "df_NAN['Reflectance_560'] = arr[3].ravel() \n",
    "df_NAN['Reflectance_650'] = arr[4].ravel() \n",
    "df_NAN['Reflectance_668'] = arr[5].ravel() \n",
    "df_NAN['Reflectance_705'] = arr[6].ravel() \n",
    "df_NAN['Reflectance_717'] = arr[7].ravel() \n",
    "df_NAN['Reflectance_740'] = arr[8].ravel() \n",
    "df_NAN['Reflectance_842'] = arr[9].ravel()"
   ]
  },
  {
   "cell_type": "code",
   "execution_count": 6,
   "metadata": {},
   "outputs": [],
   "source": [
    "df_NAN.replace([0,65535], np.nan, inplace=True)\n",
    "\n",
    "df_NAN['Reflectance_Stan_444'] = arr_std[0].ravel()\n",
    "df_NAN['Reflectance_Stan_475'] = arr_std[1].ravel() \n",
    "df_NAN['Reflectance_Stan_531'] = arr_std[2].ravel() \n",
    "df_NAN['Reflectance_Stan_560'] = arr_std[3].ravel() \n",
    "df_NAN['Reflectance_Stan_650'] = arr_std[4].ravel() \n",
    "df_NAN['Reflectance_Stan_668'] = arr_std[5].ravel() \n",
    "df_NAN['Reflectance_Stan_705'] = arr_std[6].ravel() \n",
    "df_NAN['Reflectance_Stan_717'] = arr_std[7].ravel() \n",
    "df_NAN['Reflectance_Stan_740'] = arr_std[8].ravel() \n",
    "df_NAN['Reflectance_Stan_842'] = arr_std[9].ravel()"
   ]
  },
  {
   "cell_type": "code",
   "execution_count": 7,
   "metadata": {},
   "outputs": [],
   "source": [
    "df_NAN['NDVI'] = (df_NAN['Reflectance_842']-df_NAN['Reflectance_650'])/(df_NAN['Reflectance_842']+df_NAN['Reflectance_650'])\n",
    "df_NAN['NDVI_Stan'] = (df_NAN['Reflectance_Stan_842']-df_NAN['Reflectance_Stan_650'])/(df_NAN['Reflectance_Stan_842']+df_NAN['Reflectance_Stan_650'])"
   ]
  },
  {
   "cell_type": "code",
   "execution_count": 8,
   "metadata": {},
   "outputs": [],
   "source": [
    "df = df_NAN.dropna()"
   ]
  },
  {
   "cell_type": "code",
   "execution_count": 9,
   "metadata": {},
   "outputs": [],
   "source": [
    "df_test_nan_nrum = df_NAN\n",
    "df_test_nan_nrum['ID'] = np.arange(len(df_test_nan_nrum))\n",
    "df_test_nrum = df_test_nan_nrum.dropna()"
   ]
  },
  {
   "cell_type": "code",
   "execution_count": 10,
   "metadata": {},
   "outputs": [
    {
     "data": {
      "text/plain": [
       "(2463151, 22)"
      ]
     },
     "execution_count": 10,
     "metadata": {},
     "output_type": "execute_result"
    }
   ],
   "source": [
    "df.shape"
   ]
  },
  {
   "cell_type": "code",
   "execution_count": 11,
   "metadata": {},
   "outputs": [],
   "source": [
    "ID_l=list(df_test_nrum['ID'])"
   ]
  },
  {
   "cell_type": "code",
   "execution_count": 12,
   "metadata": {},
   "outputs": [
    {
     "data": {
      "text/html": [
       "\n",
       "<style>\n",
       "    /* Turns off some styling */\n",
       "    progress {\n",
       "        /* gets rid of default border in Firefox and Opera. */\n",
       "        border: none;\n",
       "        /* Needs to be in here for Safari polyfill so background images work as expected. */\n",
       "        background-size: auto;\n",
       "    }\n",
       "    progress:not([value]), progress:not([value])::-webkit-progress-bar {\n",
       "        background: repeating-linear-gradient(45deg, #7e7e7e, #7e7e7e 10px, #5c5c5c 10px, #5c5c5c 20px);\n",
       "    }\n",
       "    .progress-bar-interrupted, .progress-bar-interrupted::-webkit-progress-bar {\n",
       "        background: #F44336;\n",
       "    }\n",
       "</style>\n"
      ],
      "text/plain": [
       "<IPython.core.display.HTML object>"
      ]
     },
     "metadata": {},
     "output_type": "display_data"
    },
    {
     "data": {
      "text/html": [],
      "text/plain": [
       "<IPython.core.display.HTML object>"
      ]
     },
     "metadata": {},
     "output_type": "display_data"
    }
   ],
   "source": [
    "dl = learn.dls.test_dl(df, bs=4000)\n",
    "preds,_ = learn.get_preds(dl=dl)"
   ]
  },
  {
   "cell_type": "code",
   "execution_count": 13,
   "metadata": {},
   "outputs": [],
   "source": [
    "class_idxs = preds.argmax(axis=1)\n",
    "# res = [learn.dls.vocab[c] for c in class_idxs]"
   ]
  },
  {
   "cell_type": "code",
   "execution_count": 14,
   "metadata": {},
   "outputs": [],
   "source": [
    "class_probs= preds.max(axis=1)"
   ]
  },
  {
   "cell_type": "code",
   "execution_count": 15,
   "metadata": {},
   "outputs": [],
   "source": [
    "class_probs=class_probs.values"
   ]
  },
  {
   "cell_type": "markdown",
   "metadata": {},
   "source": [
    "# Prediction Plot "
   ]
  },
  {
   "cell_type": "code",
   "execution_count": 16,
   "metadata": {},
   "outputs": [
    {
     "data": {
      "text/plain": [
       "list"
      ]
     },
     "execution_count": 16,
     "metadata": {},
     "output_type": "execute_result"
    }
   ],
   "source": [
    "type(class_idxs.tolist())"
   ]
  },
  {
   "cell_type": "code",
   "execution_count": 17,
   "metadata": {},
   "outputs": [],
   "source": [
    "NumPred= class_idxs.tolist()\n",
    "PredProbs =class_probs.tolist()"
   ]
  },
  {
   "cell_type": "code",
   "execution_count": 18,
   "metadata": {},
   "outputs": [],
   "source": [
    "res_df= pd.DataFrame(list(zip(NumPred, ID_l,PredProbs)),columns =['Pred_ID','ID','Prob'])"
   ]
  },
  {
   "cell_type": "code",
   "execution_count": 19,
   "metadata": {},
   "outputs": [
    {
     "data": {
      "text/html": [
       "<div>\n",
       "<style scoped>\n",
       "    .dataframe tbody tr th:only-of-type {\n",
       "        vertical-align: middle;\n",
       "    }\n",
       "\n",
       "    .dataframe tbody tr th {\n",
       "        vertical-align: top;\n",
       "    }\n",
       "\n",
       "    .dataframe thead th {\n",
       "        text-align: right;\n",
       "    }\n",
       "</style>\n",
       "<table border=\"1\" class=\"dataframe\">\n",
       "  <thead>\n",
       "    <tr style=\"text-align: right;\">\n",
       "      <th></th>\n",
       "      <th>Pred_ID</th>\n",
       "      <th>ID</th>\n",
       "      <th>Prob</th>\n",
       "    </tr>\n",
       "  </thead>\n",
       "  <tbody>\n",
       "    <tr>\n",
       "      <th>0</th>\n",
       "      <td>2</td>\n",
       "      <td>10063</td>\n",
       "      <td>0.996501</td>\n",
       "    </tr>\n",
       "    <tr>\n",
       "      <th>1</th>\n",
       "      <td>2</td>\n",
       "      <td>10064</td>\n",
       "      <td>0.993642</td>\n",
       "    </tr>\n",
       "    <tr>\n",
       "      <th>2</th>\n",
       "      <td>2</td>\n",
       "      <td>11827</td>\n",
       "      <td>0.999338</td>\n",
       "    </tr>\n",
       "    <tr>\n",
       "      <th>3</th>\n",
       "      <td>2</td>\n",
       "      <td>11828</td>\n",
       "      <td>0.998681</td>\n",
       "    </tr>\n",
       "    <tr>\n",
       "      <th>4</th>\n",
       "      <td>2</td>\n",
       "      <td>11829</td>\n",
       "      <td>0.996831</td>\n",
       "    </tr>\n",
       "    <tr>\n",
       "      <th>...</th>\n",
       "      <td>...</td>\n",
       "      <td>...</td>\n",
       "      <td>...</td>\n",
       "    </tr>\n",
       "    <tr>\n",
       "      <th>2463146</th>\n",
       "      <td>2</td>\n",
       "      <td>4625820</td>\n",
       "      <td>0.998297</td>\n",
       "    </tr>\n",
       "    <tr>\n",
       "      <th>2463147</th>\n",
       "      <td>2</td>\n",
       "      <td>4625821</td>\n",
       "      <td>0.997265</td>\n",
       "    </tr>\n",
       "    <tr>\n",
       "      <th>2463148</th>\n",
       "      <td>2</td>\n",
       "      <td>4627579</td>\n",
       "      <td>0.995977</td>\n",
       "    </tr>\n",
       "    <tr>\n",
       "      <th>2463149</th>\n",
       "      <td>2</td>\n",
       "      <td>4627580</td>\n",
       "      <td>0.998293</td>\n",
       "    </tr>\n",
       "    <tr>\n",
       "      <th>2463150</th>\n",
       "      <td>2</td>\n",
       "      <td>4627581</td>\n",
       "      <td>0.998905</td>\n",
       "    </tr>\n",
       "  </tbody>\n",
       "</table>\n",
       "<p>2463151 rows × 3 columns</p>\n",
       "</div>"
      ],
      "text/plain": [
       "         Pred_ID       ID      Prob\n",
       "0              2    10063  0.996501\n",
       "1              2    10064  0.993642\n",
       "2              2    11827  0.999338\n",
       "3              2    11828  0.998681\n",
       "4              2    11829  0.996831\n",
       "...          ...      ...       ...\n",
       "2463146        2  4625820  0.998297\n",
       "2463147        2  4625821  0.997265\n",
       "2463148        2  4627579  0.995977\n",
       "2463149        2  4627580  0.998293\n",
       "2463150        2  4627581  0.998905\n",
       "\n",
       "[2463151 rows x 3 columns]"
      ]
     },
     "execution_count": 19,
     "metadata": {},
     "output_type": "execute_result"
    }
   ],
   "source": [
    "res_df"
   ]
  },
  {
   "cell_type": "code",
   "execution_count": 20,
   "metadata": {},
   "outputs": [],
   "source": [
    "df_NAN['ID']= np.arange(len(df_NAN))"
   ]
  },
  {
   "cell_type": "code",
   "execution_count": 21,
   "metadata": {},
   "outputs": [],
   "source": [
    "res_input_df = pd.merge(df_NAN,res_df, how='left', on = 'ID')"
   ]
  },
  {
   "cell_type": "code",
   "execution_count": 22,
   "metadata": {},
   "outputs": [
    {
     "data": {
      "text/html": [
       "<div>\n",
       "<style scoped>\n",
       "    .dataframe tbody tr th:only-of-type {\n",
       "        vertical-align: middle;\n",
       "    }\n",
       "\n",
       "    .dataframe tbody tr th {\n",
       "        vertical-align: top;\n",
       "    }\n",
       "\n",
       "    .dataframe thead th {\n",
       "        text-align: right;\n",
       "    }\n",
       "</style>\n",
       "<table border=\"1\" class=\"dataframe\">\n",
       "  <thead>\n",
       "    <tr style=\"text-align: right;\">\n",
       "      <th></th>\n",
       "      <th>Reflectance_444</th>\n",
       "      <th>Reflectance_475</th>\n",
       "      <th>Reflectance_531</th>\n",
       "      <th>Reflectance_560</th>\n",
       "      <th>Reflectance_650</th>\n",
       "      <th>Reflectance_668</th>\n",
       "      <th>Reflectance_705</th>\n",
       "      <th>Reflectance_717</th>\n",
       "      <th>Reflectance_740</th>\n",
       "      <th>Reflectance_842</th>\n",
       "      <th>Reflectance_Stan_444</th>\n",
       "      <th>Reflectance_Stan_475</th>\n",
       "      <th>Reflectance_Stan_531</th>\n",
       "      <th>Reflectance_Stan_560</th>\n",
       "      <th>Reflectance_Stan_650</th>\n",
       "      <th>Reflectance_Stan_668</th>\n",
       "      <th>Reflectance_Stan_705</th>\n",
       "      <th>Reflectance_Stan_717</th>\n",
       "      <th>Reflectance_Stan_740</th>\n",
       "      <th>Reflectance_Stan_842</th>\n",
       "      <th>NDVI</th>\n",
       "      <th>NDVI_Stan</th>\n",
       "      <th>ID</th>\n",
       "      <th>Pred_ID</th>\n",
       "      <th>Prob</th>\n",
       "    </tr>\n",
       "  </thead>\n",
       "  <tbody>\n",
       "    <tr>\n",
       "      <th>0</th>\n",
       "      <td>NaN</td>\n",
       "      <td>NaN</td>\n",
       "      <td>NaN</td>\n",
       "      <td>NaN</td>\n",
       "      <td>NaN</td>\n",
       "      <td>NaN</td>\n",
       "      <td>NaN</td>\n",
       "      <td>NaN</td>\n",
       "      <td>NaN</td>\n",
       "      <td>NaN</td>\n",
       "      <td>NaN</td>\n",
       "      <td>NaN</td>\n",
       "      <td>NaN</td>\n",
       "      <td>NaN</td>\n",
       "      <td>NaN</td>\n",
       "      <td>NaN</td>\n",
       "      <td>NaN</td>\n",
       "      <td>NaN</td>\n",
       "      <td>NaN</td>\n",
       "      <td>NaN</td>\n",
       "      <td>NaN</td>\n",
       "      <td>NaN</td>\n",
       "      <td>0</td>\n",
       "      <td>NaN</td>\n",
       "      <td>NaN</td>\n",
       "    </tr>\n",
       "    <tr>\n",
       "      <th>1</th>\n",
       "      <td>NaN</td>\n",
       "      <td>NaN</td>\n",
       "      <td>NaN</td>\n",
       "      <td>NaN</td>\n",
       "      <td>NaN</td>\n",
       "      <td>NaN</td>\n",
       "      <td>NaN</td>\n",
       "      <td>NaN</td>\n",
       "      <td>NaN</td>\n",
       "      <td>NaN</td>\n",
       "      <td>NaN</td>\n",
       "      <td>NaN</td>\n",
       "      <td>NaN</td>\n",
       "      <td>NaN</td>\n",
       "      <td>NaN</td>\n",
       "      <td>NaN</td>\n",
       "      <td>NaN</td>\n",
       "      <td>NaN</td>\n",
       "      <td>NaN</td>\n",
       "      <td>NaN</td>\n",
       "      <td>NaN</td>\n",
       "      <td>NaN</td>\n",
       "      <td>1</td>\n",
       "      <td>NaN</td>\n",
       "      <td>NaN</td>\n",
       "    </tr>\n",
       "    <tr>\n",
       "      <th>2</th>\n",
       "      <td>NaN</td>\n",
       "      <td>NaN</td>\n",
       "      <td>NaN</td>\n",
       "      <td>NaN</td>\n",
       "      <td>NaN</td>\n",
       "      <td>NaN</td>\n",
       "      <td>NaN</td>\n",
       "      <td>NaN</td>\n",
       "      <td>NaN</td>\n",
       "      <td>NaN</td>\n",
       "      <td>NaN</td>\n",
       "      <td>NaN</td>\n",
       "      <td>NaN</td>\n",
       "      <td>NaN</td>\n",
       "      <td>NaN</td>\n",
       "      <td>NaN</td>\n",
       "      <td>NaN</td>\n",
       "      <td>NaN</td>\n",
       "      <td>NaN</td>\n",
       "      <td>NaN</td>\n",
       "      <td>NaN</td>\n",
       "      <td>NaN</td>\n",
       "      <td>2</td>\n",
       "      <td>NaN</td>\n",
       "      <td>NaN</td>\n",
       "    </tr>\n",
       "    <tr>\n",
       "      <th>3</th>\n",
       "      <td>NaN</td>\n",
       "      <td>NaN</td>\n",
       "      <td>NaN</td>\n",
       "      <td>NaN</td>\n",
       "      <td>NaN</td>\n",
       "      <td>NaN</td>\n",
       "      <td>NaN</td>\n",
       "      <td>NaN</td>\n",
       "      <td>NaN</td>\n",
       "      <td>NaN</td>\n",
       "      <td>NaN</td>\n",
       "      <td>NaN</td>\n",
       "      <td>NaN</td>\n",
       "      <td>NaN</td>\n",
       "      <td>NaN</td>\n",
       "      <td>NaN</td>\n",
       "      <td>NaN</td>\n",
       "      <td>NaN</td>\n",
       "      <td>NaN</td>\n",
       "      <td>NaN</td>\n",
       "      <td>NaN</td>\n",
       "      <td>NaN</td>\n",
       "      <td>3</td>\n",
       "      <td>NaN</td>\n",
       "      <td>NaN</td>\n",
       "    </tr>\n",
       "    <tr>\n",
       "      <th>4</th>\n",
       "      <td>NaN</td>\n",
       "      <td>NaN</td>\n",
       "      <td>NaN</td>\n",
       "      <td>NaN</td>\n",
       "      <td>NaN</td>\n",
       "      <td>NaN</td>\n",
       "      <td>NaN</td>\n",
       "      <td>NaN</td>\n",
       "      <td>NaN</td>\n",
       "      <td>NaN</td>\n",
       "      <td>NaN</td>\n",
       "      <td>NaN</td>\n",
       "      <td>NaN</td>\n",
       "      <td>NaN</td>\n",
       "      <td>NaN</td>\n",
       "      <td>NaN</td>\n",
       "      <td>NaN</td>\n",
       "      <td>NaN</td>\n",
       "      <td>NaN</td>\n",
       "      <td>NaN</td>\n",
       "      <td>NaN</td>\n",
       "      <td>NaN</td>\n",
       "      <td>4</td>\n",
       "      <td>NaN</td>\n",
       "      <td>NaN</td>\n",
       "    </tr>\n",
       "    <tr>\n",
       "      <th>...</th>\n",
       "      <td>...</td>\n",
       "      <td>...</td>\n",
       "      <td>...</td>\n",
       "      <td>...</td>\n",
       "      <td>...</td>\n",
       "      <td>...</td>\n",
       "      <td>...</td>\n",
       "      <td>...</td>\n",
       "      <td>...</td>\n",
       "      <td>...</td>\n",
       "      <td>...</td>\n",
       "      <td>...</td>\n",
       "      <td>...</td>\n",
       "      <td>...</td>\n",
       "      <td>...</td>\n",
       "      <td>...</td>\n",
       "      <td>...</td>\n",
       "      <td>...</td>\n",
       "      <td>...</td>\n",
       "      <td>...</td>\n",
       "      <td>...</td>\n",
       "      <td>...</td>\n",
       "      <td>...</td>\n",
       "      <td>...</td>\n",
       "      <td>...</td>\n",
       "    </tr>\n",
       "    <tr>\n",
       "      <th>4634885</th>\n",
       "      <td>NaN</td>\n",
       "      <td>NaN</td>\n",
       "      <td>NaN</td>\n",
       "      <td>NaN</td>\n",
       "      <td>NaN</td>\n",
       "      <td>NaN</td>\n",
       "      <td>NaN</td>\n",
       "      <td>NaN</td>\n",
       "      <td>NaN</td>\n",
       "      <td>NaN</td>\n",
       "      <td>NaN</td>\n",
       "      <td>NaN</td>\n",
       "      <td>NaN</td>\n",
       "      <td>NaN</td>\n",
       "      <td>NaN</td>\n",
       "      <td>NaN</td>\n",
       "      <td>NaN</td>\n",
       "      <td>NaN</td>\n",
       "      <td>NaN</td>\n",
       "      <td>NaN</td>\n",
       "      <td>NaN</td>\n",
       "      <td>NaN</td>\n",
       "      <td>4634885</td>\n",
       "      <td>NaN</td>\n",
       "      <td>NaN</td>\n",
       "    </tr>\n",
       "    <tr>\n",
       "      <th>4634886</th>\n",
       "      <td>NaN</td>\n",
       "      <td>NaN</td>\n",
       "      <td>NaN</td>\n",
       "      <td>NaN</td>\n",
       "      <td>NaN</td>\n",
       "      <td>NaN</td>\n",
       "      <td>NaN</td>\n",
       "      <td>NaN</td>\n",
       "      <td>NaN</td>\n",
       "      <td>NaN</td>\n",
       "      <td>NaN</td>\n",
       "      <td>NaN</td>\n",
       "      <td>NaN</td>\n",
       "      <td>NaN</td>\n",
       "      <td>NaN</td>\n",
       "      <td>NaN</td>\n",
       "      <td>NaN</td>\n",
       "      <td>NaN</td>\n",
       "      <td>NaN</td>\n",
       "      <td>NaN</td>\n",
       "      <td>NaN</td>\n",
       "      <td>NaN</td>\n",
       "      <td>4634886</td>\n",
       "      <td>NaN</td>\n",
       "      <td>NaN</td>\n",
       "    </tr>\n",
       "    <tr>\n",
       "      <th>4634887</th>\n",
       "      <td>NaN</td>\n",
       "      <td>NaN</td>\n",
       "      <td>NaN</td>\n",
       "      <td>NaN</td>\n",
       "      <td>NaN</td>\n",
       "      <td>NaN</td>\n",
       "      <td>NaN</td>\n",
       "      <td>NaN</td>\n",
       "      <td>NaN</td>\n",
       "      <td>NaN</td>\n",
       "      <td>NaN</td>\n",
       "      <td>NaN</td>\n",
       "      <td>NaN</td>\n",
       "      <td>NaN</td>\n",
       "      <td>NaN</td>\n",
       "      <td>NaN</td>\n",
       "      <td>NaN</td>\n",
       "      <td>NaN</td>\n",
       "      <td>NaN</td>\n",
       "      <td>NaN</td>\n",
       "      <td>NaN</td>\n",
       "      <td>NaN</td>\n",
       "      <td>4634887</td>\n",
       "      <td>NaN</td>\n",
       "      <td>NaN</td>\n",
       "    </tr>\n",
       "    <tr>\n",
       "      <th>4634888</th>\n",
       "      <td>NaN</td>\n",
       "      <td>NaN</td>\n",
       "      <td>NaN</td>\n",
       "      <td>NaN</td>\n",
       "      <td>NaN</td>\n",
       "      <td>NaN</td>\n",
       "      <td>NaN</td>\n",
       "      <td>NaN</td>\n",
       "      <td>NaN</td>\n",
       "      <td>NaN</td>\n",
       "      <td>NaN</td>\n",
       "      <td>NaN</td>\n",
       "      <td>NaN</td>\n",
       "      <td>NaN</td>\n",
       "      <td>NaN</td>\n",
       "      <td>NaN</td>\n",
       "      <td>NaN</td>\n",
       "      <td>NaN</td>\n",
       "      <td>NaN</td>\n",
       "      <td>NaN</td>\n",
       "      <td>NaN</td>\n",
       "      <td>NaN</td>\n",
       "      <td>4634888</td>\n",
       "      <td>NaN</td>\n",
       "      <td>NaN</td>\n",
       "    </tr>\n",
       "    <tr>\n",
       "      <th>4634889</th>\n",
       "      <td>NaN</td>\n",
       "      <td>NaN</td>\n",
       "      <td>NaN</td>\n",
       "      <td>NaN</td>\n",
       "      <td>NaN</td>\n",
       "      <td>NaN</td>\n",
       "      <td>NaN</td>\n",
       "      <td>NaN</td>\n",
       "      <td>NaN</td>\n",
       "      <td>NaN</td>\n",
       "      <td>NaN</td>\n",
       "      <td>NaN</td>\n",
       "      <td>NaN</td>\n",
       "      <td>NaN</td>\n",
       "      <td>NaN</td>\n",
       "      <td>NaN</td>\n",
       "      <td>NaN</td>\n",
       "      <td>NaN</td>\n",
       "      <td>NaN</td>\n",
       "      <td>NaN</td>\n",
       "      <td>NaN</td>\n",
       "      <td>NaN</td>\n",
       "      <td>4634889</td>\n",
       "      <td>NaN</td>\n",
       "      <td>NaN</td>\n",
       "    </tr>\n",
       "  </tbody>\n",
       "</table>\n",
       "<p>4634890 rows × 25 columns</p>\n",
       "</div>"
      ],
      "text/plain": [
       "         Reflectance_444  Reflectance_475  Reflectance_531  Reflectance_560  \\\n",
       "0                    NaN              NaN              NaN              NaN   \n",
       "1                    NaN              NaN              NaN              NaN   \n",
       "2                    NaN              NaN              NaN              NaN   \n",
       "3                    NaN              NaN              NaN              NaN   \n",
       "4                    NaN              NaN              NaN              NaN   \n",
       "...                  ...              ...              ...              ...   \n",
       "4634885              NaN              NaN              NaN              NaN   \n",
       "4634886              NaN              NaN              NaN              NaN   \n",
       "4634887              NaN              NaN              NaN              NaN   \n",
       "4634888              NaN              NaN              NaN              NaN   \n",
       "4634889              NaN              NaN              NaN              NaN   \n",
       "\n",
       "         Reflectance_650  Reflectance_668  Reflectance_705  Reflectance_717  \\\n",
       "0                    NaN              NaN              NaN              NaN   \n",
       "1                    NaN              NaN              NaN              NaN   \n",
       "2                    NaN              NaN              NaN              NaN   \n",
       "3                    NaN              NaN              NaN              NaN   \n",
       "4                    NaN              NaN              NaN              NaN   \n",
       "...                  ...              ...              ...              ...   \n",
       "4634885              NaN              NaN              NaN              NaN   \n",
       "4634886              NaN              NaN              NaN              NaN   \n",
       "4634887              NaN              NaN              NaN              NaN   \n",
       "4634888              NaN              NaN              NaN              NaN   \n",
       "4634889              NaN              NaN              NaN              NaN   \n",
       "\n",
       "         Reflectance_740  Reflectance_842  Reflectance_Stan_444  \\\n",
       "0                    NaN              NaN                   NaN   \n",
       "1                    NaN              NaN                   NaN   \n",
       "2                    NaN              NaN                   NaN   \n",
       "3                    NaN              NaN                   NaN   \n",
       "4                    NaN              NaN                   NaN   \n",
       "...                  ...              ...                   ...   \n",
       "4634885              NaN              NaN                   NaN   \n",
       "4634886              NaN              NaN                   NaN   \n",
       "4634887              NaN              NaN                   NaN   \n",
       "4634888              NaN              NaN                   NaN   \n",
       "4634889              NaN              NaN                   NaN   \n",
       "\n",
       "         Reflectance_Stan_475  Reflectance_Stan_531  Reflectance_Stan_560  \\\n",
       "0                         NaN                   NaN                   NaN   \n",
       "1                         NaN                   NaN                   NaN   \n",
       "2                         NaN                   NaN                   NaN   \n",
       "3                         NaN                   NaN                   NaN   \n",
       "4                         NaN                   NaN                   NaN   \n",
       "...                       ...                   ...                   ...   \n",
       "4634885                   NaN                   NaN                   NaN   \n",
       "4634886                   NaN                   NaN                   NaN   \n",
       "4634887                   NaN                   NaN                   NaN   \n",
       "4634888                   NaN                   NaN                   NaN   \n",
       "4634889                   NaN                   NaN                   NaN   \n",
       "\n",
       "         Reflectance_Stan_650  Reflectance_Stan_668  Reflectance_Stan_705  \\\n",
       "0                         NaN                   NaN                   NaN   \n",
       "1                         NaN                   NaN                   NaN   \n",
       "2                         NaN                   NaN                   NaN   \n",
       "3                         NaN                   NaN                   NaN   \n",
       "4                         NaN                   NaN                   NaN   \n",
       "...                       ...                   ...                   ...   \n",
       "4634885                   NaN                   NaN                   NaN   \n",
       "4634886                   NaN                   NaN                   NaN   \n",
       "4634887                   NaN                   NaN                   NaN   \n",
       "4634888                   NaN                   NaN                   NaN   \n",
       "4634889                   NaN                   NaN                   NaN   \n",
       "\n",
       "         Reflectance_Stan_717  Reflectance_Stan_740  Reflectance_Stan_842  \\\n",
       "0                         NaN                   NaN                   NaN   \n",
       "1                         NaN                   NaN                   NaN   \n",
       "2                         NaN                   NaN                   NaN   \n",
       "3                         NaN                   NaN                   NaN   \n",
       "4                         NaN                   NaN                   NaN   \n",
       "...                       ...                   ...                   ...   \n",
       "4634885                   NaN                   NaN                   NaN   \n",
       "4634886                   NaN                   NaN                   NaN   \n",
       "4634887                   NaN                   NaN                   NaN   \n",
       "4634888                   NaN                   NaN                   NaN   \n",
       "4634889                   NaN                   NaN                   NaN   \n",
       "\n",
       "         NDVI  NDVI_Stan       ID  Pred_ID  Prob  \n",
       "0         NaN        NaN        0      NaN   NaN  \n",
       "1         NaN        NaN        1      NaN   NaN  \n",
       "2         NaN        NaN        2      NaN   NaN  \n",
       "3         NaN        NaN        3      NaN   NaN  \n",
       "4         NaN        NaN        4      NaN   NaN  \n",
       "...       ...        ...      ...      ...   ...  \n",
       "4634885   NaN        NaN  4634885      NaN   NaN  \n",
       "4634886   NaN        NaN  4634886      NaN   NaN  \n",
       "4634887   NaN        NaN  4634887      NaN   NaN  \n",
       "4634888   NaN        NaN  4634888      NaN   NaN  \n",
       "4634889   NaN        NaN  4634889      NaN   NaN  \n",
       "\n",
       "[4634890 rows x 25 columns]"
      ]
     },
     "execution_count": 22,
     "metadata": {},
     "output_type": "execute_result"
    }
   ],
   "source": [
    "res_input_df"
   ]
  },
  {
   "cell_type": "code",
   "execution_count": 23,
   "metadata": {},
   "outputs": [],
   "source": [
    "Pred_arr = np.asarray(res_input_df['Pred_ID'])"
   ]
  },
  {
   "cell_type": "code",
   "execution_count": 24,
   "metadata": {},
   "outputs": [],
   "source": [
    "Pred_arr=Pred_arr+1"
   ]
  },
  {
   "cell_type": "code",
   "execution_count": 25,
   "metadata": {},
   "outputs": [
    {
     "data": {
      "text/plain": [
       "(10, 2626, 1765)"
      ]
     },
     "execution_count": 25,
     "metadata": {},
     "output_type": "execute_result"
    }
   ],
   "source": [
    "arr.shape"
   ]
  },
  {
   "cell_type": "code",
   "execution_count": 26,
   "metadata": {},
   "outputs": [],
   "source": [
    "Prob_arr = np.asarray(res_input_df['Prob'])\n",
    "Prob_ras = Prob_arr.reshape(arr.shape[1], arr.shape[2])"
   ]
  },
  {
   "cell_type": "code",
   "execution_count": 27,
   "metadata": {},
   "outputs": [],
   "source": [
    "Pred_ras = Pred_arr.reshape(arr.shape[1], arr.shape[2])"
   ]
  },
  {
   "cell_type": "markdown",
   "metadata": {},
   "source": [
    "# Prediction Save"
   ]
  },
  {
   "cell_type": "code",
   "execution_count": 28,
   "metadata": {},
   "outputs": [
    {
     "name": "stdout",
     "output_type": "stream",
     "text": [
      "Directory ../Output/Pred already exists.\n"
     ]
    }
   ],
   "source": [
    "# export\n",
    "def ensure_directory_exists(directory_path):\n",
    "    if not os.path.exists(directory_path):\n",
    "        os.makedirs(directory_path)\n",
    "        print(f\"Directory {directory_path} created.\")\n",
    "    else:\n",
    "        print(f\"Directory {directory_path} already exists.\")\n",
    "\n",
    "ensure_directory_exists(\"../Output/Pred\") \n",
    "\n",
    "driver = gdal.GetDriverByName(\"GTiff\")\n",
    "driver.Register()\n",
    "outds = driver.Create(\"../Output/Pred/\" + output_name +\"_prob.tif\", xsize = Prob_ras.shape[1],\n",
    "                      ysize = Prob_ras.shape[0], bands = 1, \n",
    "                      eType = gdal.GDT_Float32)\n",
    "\n",
    "outds.SetGeoTransform(gt)\n",
    "outds.SetProjection(proj)\n",
    "outband = outds.GetRasterBand(1)\n",
    "outband.WriteArray(Prob_ras)\n",
    "outband.SetNoDataValue(65535)\n",
    "outband.FlushCache()\n",
    "\n",
    "# close your datasets and bands!!!\n",
    "outband = None\n",
    "outds = None\n",
    "\n",
    "driver = gdal.GetDriverByName(\"GTiff\")\n",
    "driver.Register()\n",
    "outds = driver.Create(\"../Output/Pred/\" + output_name +\"_pred.tif\", xsize = Pred_ras.shape[1],\n",
    "                      ysize = Pred_ras.shape[0], bands = 1, \n",
    "                      eType = gdal.GDT_Int16)\n",
    "outds.SetGeoTransform(gt)\n",
    "outds.SetProjection(proj)\n",
    "outband = outds.GetRasterBand(1)\n",
    "outband.WriteArray(Pred_ras)\n",
    "outband.SetNoDataValue(65535)\n",
    "outband.SetNoDataValue(32767)\n",
    "outband.FlushCache()\n",
    "# close your datasets and bands!!!\n",
    "outband = None\n",
    "outds = None"
   ]
  }
 ],
 "metadata": {
  "kernelspec": {
   "display_name": "DISCOV_prediction",
   "language": "python",
   "name": "python3"
  },
  "language_info": {
   "codemirror_mode": {
    "name": "ipython",
    "version": 3
   },
   "file_extension": ".py",
   "mimetype": "text/x-python",
   "name": "python",
   "nbconvert_exporter": "python",
   "pygments_lexer": "ipython3",
   "version": "3.10.15"
  }
 },
 "nbformat": 4,
 "nbformat_minor": 2
}
